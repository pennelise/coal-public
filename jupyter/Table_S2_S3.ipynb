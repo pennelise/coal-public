{
 "cells": [
  {
   "cell_type": "markdown",
   "id": "c8ff7541",
   "metadata": {},
   "source": [
    "### Output plume_scene and infrastructure location tables for the SI. "
   ]
  },
  {
   "cell_type": "code",
   "execution_count": 1,
   "id": "29fc3c0a",
   "metadata": {},
   "outputs": [],
   "source": [
    "import pandas as pd\n",
    "import numpy as np\n",
    "import openpyxl\n",
    "import matplotlib.pyplot as plt\n",
    "import matplotlib as mpl\n",
    "from matplotlib.patches import Patch\n",
    "import mine_emis\n",
    "import utils"
   ]
  },
  {
   "cell_type": "code",
   "execution_count": 2,
   "id": "089fdf4c",
   "metadata": {},
   "outputs": [],
   "source": [
    "PLUMES_PER_SCENE = \"../data/kelly_plumes_20250211/radial_MAD_alpha_no_QC/plumes_per_scene.csv\" \n",
    "PLUMES_PER_SCENE_QC = \"../data/kelly_plumes_20250211/radial_MAD_alpha/plumes_per_scene.csv\" \n",
    "VENT_FILE = '../data/labeled_vents.kml'\n",
    "LUT = '../data/facility_lookup.csv'\n",
    "QC_FILE = \"../data/plume_qc_new_20250217.csv\"\n",
    "MISSING_FILE = \"../data/missing_plume_check.csv\""
   ]
  },
  {
   "cell_type": "code",
   "execution_count": 3,
   "id": "bd6412da",
   "metadata": {},
   "outputs": [],
   "source": [
    "infra = utils.read_infrastructure_file(VENT_FILE)\n",
    "pps = pd.read_csv(PLUMES_PER_SCENE)\n",
    "pps_qc = pd.read_csv(PLUMES_PER_SCENE_QC)"
   ]
  },
  {
   "cell_type": "code",
   "execution_count": 4,
   "id": "7dfe78b8",
   "metadata": {},
   "outputs": [],
   "source": [
    "infra.loc[infra.vent_type.isin(['Well', 'Ventilation Shaft']),['vent_id', 'mine', 'vent_type', 'lat', 'lon']\n",
    "          ].reset_index(drop=True).to_csv(\"../data/tables_for_SI/infrastructure.csv\", index=False)"
   ]
  },
  {
   "cell_type": "code",
   "execution_count": 5,
   "id": "5331ec24",
   "metadata": {},
   "outputs": [],
   "source": [
    "def apply_qc_to_plume_scene_no_dropping(plumes_per_scene, \n",
    "                            qc_filepath, \n",
    "                            missing_filepath\n",
    "                            ):\n",
    "    missing = pd.read_csv(missing_filepath, dtype={\"vent_id\":int})\n",
    "    qc = pd.read_csv(qc_filepath)\n",
    "    plumes_per_scene = plumes_per_scene[~plumes_per_scene.scene_id.str.contains(\"emi\")] # drop EMIT\n",
    "\n",
    "    missing = missing[missing.qc.isin([\"none\",\"nondetect\"])] # all other plumes MUST be handled by QC\n",
    "    plumes_per_scene = pd.merge(plumes_per_scene, missing[['scene_id', 'vent_id', 'qc']], on=[\"scene_id\", \"vent_id\"], how='left')\n",
    "    plumes_per_scene = pd.merge(plumes_per_scene, qc[['plume_id', 'qc']], on='plume_id', how='left', suffixes=('_missing', '_qc'))\n",
    "    plumes_per_scene['qc'] = plumes_per_scene.qc_qc.combine_first(plumes_per_scene.qc_missing) # if plume is not in QC df, use assessemnt from Missing df\n",
    "\n",
    "    assert not plumes_per_scene.qc.isnull().any(), \"nans present in QC files, finish QC'ing and try again.\"\n",
    "    print(\"QC summary:\")\n",
    "    print(plumes_per_scene.qc.value_counts())\n",
    "\n",
    "    plumes_per_scene[\"qc\"] = plumes_per_scene.qc.replace({\"nondetect\": \"hide\", \n",
    "                                                \"none\": \"fail\", \n",
    "                                                }) # standardize QC names\n",
    "\n",
    "    plumes_per_scene.loc[plumes_per_scene.qc=='fail','emission_auto'] = 0. # set fail to 0 - no emissions observed.\n",
    "    plumes_per_scene.loc[(plumes_per_scene.qc=='fail')&\n",
    "                    ((plumes_per_scene.scene_id.str.contains('ang'))|\n",
    "                    (plumes_per_scene.scene_id.str.contains('GAO'))), \n",
    "                    'emission_uncertainty_auto'] = 50. # set error to upper level 90% POD\n",
    "    plumes_per_scene['date'] = pd.to_datetime(plumes_per_scene['date'])\n",
    "        \n",
    "    return plumes_per_scene"
   ]
  },
  {
   "cell_type": "code",
   "execution_count": 6,
   "id": "8833f538",
   "metadata": {},
   "outputs": [
    {
     "data": {
      "text/plain": [
       "0                               NaN\n",
       "1                               NaN\n",
       "2                               NaN\n",
       "3                               NaN\n",
       "4                               NaN\n",
       "                   ...             \n",
       "643                             NaN\n",
       "644                             NaN\n",
       "645                             NaN\n",
       "646    [GAO20210515t144158p0000, A]\n",
       "647    [GAO20210514t132657p0000, 1]\n",
       "Name: plume_id, Length: 648, dtype: object"
      ]
     },
     "execution_count": 6,
     "metadata": {},
     "output_type": "execute_result"
    }
   ],
   "source": [
    "pps_qc['plume_id'].str.split('-')"
   ]
  },
  {
   "cell_type": "code",
   "execution_count": 7,
   "id": "8a828e98",
   "metadata": {},
   "outputs": [
    {
     "name": "stdout",
     "output_type": "stream",
     "text": [
      "QC summary:\n",
      "qc\n",
      "none         330\n",
      "pass         264\n",
      "hide          49\n",
      "nondetect     43\n",
      "Name: count, dtype: int64\n"
     ]
    }
   ],
   "source": [
    "pps = pps[pps.scene_id.apply(lambda x: x[0:3] != 'emi')]\n",
    "pps_qc = apply_qc_to_plume_scene_no_dropping(pps, QC_FILE, MISSING_FILE)\n",
    "# round emission_auto and emission_uncertainty_auto to 2 decimal places\n",
    "pps_qc['emission_auto'] = pps_qc['emission_auto'].round(0)\n",
    "pps_qc['emission_uncertainty_auto'] = pps_qc['emission_uncertainty_auto'].round(0)\n",
    "pps_qc['plume_label'] = pps_qc['plume_id'].str.split('-').apply(lambda x: x[1] if type(x)==list else x)\n",
    "pps_qc['vent_id'] = pps_qc['vent_id'].astype(int)\n",
    "pps_qc.loc[(pps_qc['observed'])&(pps_qc.vent_id.isin(infra[infra.vent_type.isin(['Well', 'Ventilation Shaft'])].vent_id)),\n",
    "        ['vent_id', 'scene_id', 'plume_label', 'plume_latitude','plume_longitude', 'emission_auto', 'emission_uncertainty_auto',\n",
    "         'qc_qc']\n",
    "        ].rename({'qc_qc':'qc'}).reset_index(drop=True).to_csv(\"../data/tables_for_SI/CM_plumes.csv\", index=False)"
   ]
  },
  {
   "cell_type": "code",
   "execution_count": 15,
   "id": "34d0465c",
   "metadata": {},
   "outputs": [],
   "source": [
    "pps_qc['quarter'] = pps_qc['date'].dt.to_period('Q').astype(str)"
   ]
  },
  {
   "cell_type": "code",
   "execution_count": 17,
   "id": "54ef320a",
   "metadata": {},
   "outputs": [
    {
     "data": {
      "text/plain": [
       "array([[<Axes: title={'center': 'scene_id'}>]], dtype=object)"
      ]
     },
     "execution_count": 17,
     "metadata": {},
     "output_type": "execute_result"
    },
    {
     "data": {
      "image/png": "[encoded data removed]",
      "text/plain": [
       "<Figure size 640x480 with 1 Axes>"
      ]
     },
     "metadata": {},
     "output_type": "display_data"
    }
   ],
   "source": [
    "pps_qc[pps_qc.qc_qc.isin(['pass'])].groupby(['vent_id','quarter']).count()[['scene_id']].hist()"
   ]
  },
  {
   "cell_type": "code",
   "execution_count": 31,
   "id": "78cd731f",
   "metadata": {},
   "outputs": [
    {
     "data": {
      "text/plain": [
       "scene_id\n",
       "1           59\n",
       "2           38\n",
       "3           22\n",
       "4            8\n",
       "5            5\n",
       "6            1\n",
       "Name: count, dtype: int64"
      ]
     },
     "execution_count": 31,
     "metadata": {},
     "output_type": "execute_result"
    }
   ],
   "source": [
    "(pps_qc[pps_qc.qc_qc.isin(['pass'])].groupby(['vent_id','quarter']).count()[['scene_id']]).value_counts()"
   ]
  },
  {
   "cell_type": "code",
   "execution_count": 29,
   "id": "530024bc",
   "metadata": {},
   "outputs": [
    {
     "data": {
      "text/plain": [
       "emission_auto\n",
       "1    67\n",
       "2    24\n",
       "3     6\n",
       "Name: count, dtype: int64"
      ]
     },
     "execution_count": 29,
     "metadata": {},
     "output_type": "execute_result"
    }
   ],
   "source": [
    "pps_qc[pps_qc.qc_qc.isin(['pass'])].groupby(['vent_id','quarter'])['emission_auto'].mean().groupby('vent_id').count().value_counts()"
   ]
  },
  {
   "cell_type": "code",
   "execution_count": null,
   "id": "740481be",
   "metadata": {},
   "outputs": [],
   "source": []
  }
 ],
 "metadata": {
  "kernelspec": {
   "display_name": "Python 3",
   "language": "python",
   "name": "python3"
  },
  "language_info": {
   "codemirror_mode": {
    "name": "ipython",
    "version": 3
   },
   "file_extension": ".py",
   "mimetype": "text/x-python",
   "name": "python",
   "nbconvert_exporter": "python",
   "pygments_lexer": "ipython3",
   "version": "3.10.12"
  }
 },
 "nbformat": 4,
 "nbformat_minor": 5
}
